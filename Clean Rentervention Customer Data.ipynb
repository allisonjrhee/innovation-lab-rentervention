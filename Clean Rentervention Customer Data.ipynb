{
 "cells": [
  {
   "cell_type": "code",
   "execution_count": 1,
   "id": "3c27d266",
   "metadata": {},
   "outputs": [],
   "source": [
    "import pandas as pd"
   ]
  },
  {
   "cell_type": "code",
   "execution_count": 2,
   "id": "26484d49",
   "metadata": {},
   "outputs": [],
   "source": [
    "df = pd.read_csv('rentervention_customer.csv')"
   ]
  },
  {
   "cell_type": "code",
   "execution_count": 4,
   "id": "2fcb98ef",
   "metadata": {
    "scrolled": true
   },
   "outputs": [
    {
     "data": {
      "text/plain": [
       "0                                    I have been evicted \n",
       "1                    I want to talk to a housing advocate\n",
       "2                                               Mediation\n",
       "3                                                     esp\n",
       "4                       Landlord gave me 24 hours to move\n",
       "                              ...                        \n",
       "7820    My application was refused rental assistance c...\n",
       "7821                                     Rent assissantce\n",
       "7822                                             eviction\n",
       "7823                                             eviction\n",
       "7824                                              deposit\n",
       "Name: @welcome, Length: 7825, dtype: object"
      ]
     },
     "execution_count": 4,
     "metadata": {},
     "output_type": "execute_result"
    }
   ],
   "source": [
    "df['@welcome']"
   ]
  },
  {
   "cell_type": "code",
   "execution_count": 8,
   "id": "0d813d8a",
   "metadata": {},
   "outputs": [
    {
     "data": {
      "text/html": [
       "<div>\n",
       "<style scoped>\n",
       "    .dataframe tbody tr th:only-of-type {\n",
       "        vertical-align: middle;\n",
       "    }\n",
       "\n",
       "    .dataframe tbody tr th {\n",
       "        vertical-align: top;\n",
       "    }\n",
       "\n",
       "    .dataframe thead th {\n",
       "        text-align: right;\n",
       "    }\n",
       "</style>\n",
       "<table border=\"1\" class=\"dataframe\">\n",
       "  <thead>\n",
       "    <tr style=\"text-align: right;\">\n",
       "      <th></th>\n",
       "      <th>@mattertype</th>\n",
       "      <th>@welcome</th>\n",
       "    </tr>\n",
       "  </thead>\n",
       "  <tbody>\n",
       "    <tr>\n",
       "      <th>0</th>\n",
       "      <td>Eviction</td>\n",
       "      <td>I have been evicted</td>\n",
       "    </tr>\n",
       "    <tr>\n",
       "      <th>1</th>\n",
       "      <td>Lockout</td>\n",
       "      <td>I want to talk to a housing advocate</td>\n",
       "    </tr>\n",
       "    <tr>\n",
       "      <th>2</th>\n",
       "      <td>Conditions</td>\n",
       "      <td>Mediation</td>\n",
       "    </tr>\n",
       "    <tr>\n",
       "      <th>3</th>\n",
       "      <td>NaN</td>\n",
       "      <td>esp</td>\n",
       "    </tr>\n",
       "    <tr>\n",
       "      <th>4</th>\n",
       "      <td>Eviction</td>\n",
       "      <td>Landlord gave me 24 hours to move</td>\n",
       "    </tr>\n",
       "    <tr>\n",
       "      <th>...</th>\n",
       "      <td>...</td>\n",
       "      <td>...</td>\n",
       "    </tr>\n",
       "    <tr>\n",
       "      <th>7820</th>\n",
       "      <td>Rental Assistance</td>\n",
       "      <td>My application was refused rental assistance c...</td>\n",
       "    </tr>\n",
       "    <tr>\n",
       "      <th>7821</th>\n",
       "      <td>Rental Assistance</td>\n",
       "      <td>Rent assissantce</td>\n",
       "    </tr>\n",
       "    <tr>\n",
       "      <th>7822</th>\n",
       "      <td>Eviction</td>\n",
       "      <td>eviction</td>\n",
       "    </tr>\n",
       "    <tr>\n",
       "      <th>7823</th>\n",
       "      <td>Eviction</td>\n",
       "      <td>eviction</td>\n",
       "    </tr>\n",
       "    <tr>\n",
       "      <th>7824</th>\n",
       "      <td>Security Deposit</td>\n",
       "      <td>deposit</td>\n",
       "    </tr>\n",
       "  </tbody>\n",
       "</table>\n",
       "<p>7825 rows × 2 columns</p>\n",
       "</div>"
      ],
      "text/plain": [
       "            @mattertype                                           @welcome\n",
       "0              Eviction                               I have been evicted \n",
       "1               Lockout               I want to talk to a housing advocate\n",
       "2            Conditions                                          Mediation\n",
       "3                   NaN                                                esp\n",
       "4              Eviction                  Landlord gave me 24 hours to move\n",
       "...                 ...                                                ...\n",
       "7820  Rental Assistance  My application was refused rental assistance c...\n",
       "7821  Rental Assistance                                   Rent assissantce\n",
       "7822           Eviction                                           eviction\n",
       "7823           Eviction                                           eviction\n",
       "7824   Security Deposit                                            deposit\n",
       "\n",
       "[7825 rows x 2 columns]"
      ]
     },
     "execution_count": 8,
     "metadata": {},
     "output_type": "execute_result"
    }
   ],
   "source": [
    "df = df[['@mattertype','@welcome']]\n",
    "df"
   ]
  },
  {
   "cell_type": "code",
   "execution_count": 19,
   "id": "a4d048a1",
   "metadata": {},
   "outputs": [],
   "source": [
    "eviction = df[df['@mattertype'] == 'Eviction']\n",
    "lockout = df[df['@mattertype'] == 'Lockout']\n",
    "conditions = df[df['@mattertype'] == 'Conditions']\n",
    "rentalassistance = df[df['@mattertype'] == 'Rental Assistance']\n",
    "securitydeposit = df[df['@mattertype'] == 'Security Deposit']\n",
    "essentialservices = df[df['@mattertype'] == 'Essential Services']\n",
    "nomatch = df[df['@mattertype'] == 'No Match']\n",
    "sealing = df[df['@mattertype'] == 'Sealing']\n",
    "covid19 = df[df['@mattertype'] == 'COVID-19']\n",
    "retaliation = df[df['@mattertype'] == 'Retaliation']\n",
    "discrimination = df[df['@mattertype'] == 'Discrimination']\n",
    "foreclosure = df[df['@mattertype'] == 'Foreclosure']"
   ]
  },
  {
   "cell_type": "code",
   "execution_count": 21,
   "id": "dab88c95",
   "metadata": {},
   "outputs": [
    {
     "data": {
      "text/html": [
       "<div>\n",
       "<style scoped>\n",
       "    .dataframe tbody tr th:only-of-type {\n",
       "        vertical-align: middle;\n",
       "    }\n",
       "\n",
       "    .dataframe tbody tr th {\n",
       "        vertical-align: top;\n",
       "    }\n",
       "\n",
       "    .dataframe thead th {\n",
       "        text-align: right;\n",
       "    }\n",
       "</style>\n",
       "<table border=\"1\" class=\"dataframe\">\n",
       "  <thead>\n",
       "    <tr style=\"text-align: right;\">\n",
       "      <th></th>\n",
       "      <th>@mattertype</th>\n",
       "      <th>@welcome</th>\n",
       "    </tr>\n",
       "  </thead>\n",
       "  <tbody>\n",
       "  </tbody>\n",
       "</table>\n",
       "</div>"
      ],
      "text/plain": [
       "Empty DataFrame\n",
       "Columns: [@mattertype, @welcome]\n",
       "Index: []"
      ]
     },
     "execution_count": 21,
     "metadata": {},
     "output_type": "execute_result"
    }
   ],
   "source": [
    "foreclosure"
   ]
  },
  {
   "cell_type": "code",
   "execution_count": 20,
   "id": "8381a821",
   "metadata": {},
   "outputs": [],
   "source": [
    "eviction.to_csv(\"eviction.csv\")\n",
    "lockout.to_csv(\"lockout.csv\")\n",
    "conditions.to_csv(\"conditions.csv\")\n",
    "rentalassistance.to_csv(\"rentalassistance.csv\")\n",
    "securitydeposit.to_csv(\"securitydeposit.csv\")\n",
    "essentialservices.to_csv(\"essentialservices.csv\")\n",
    "nomatch.to_csv(\"nomatch.csv\")\n",
    "sealing.to_csv(\"sealing.csv\")\n",
    "covid19.to_csv(\"covid19.csv\")\n",
    "retaliation.to_csv(\"retaliation.csv\")\n",
    "discrimination.to_csv(\"discrimination.csv\")\n",
    "foreclosure.to_csv(\"foreclosure.csv\")"
   ]
  },
  {
   "cell_type": "code",
   "execution_count": null,
   "id": "4ca9040b",
   "metadata": {},
   "outputs": [],
   "source": []
  }
 ],
 "metadata": {
  "kernelspec": {
   "display_name": "Python 3 (ipykernel)",
   "language": "python",
   "name": "python3"
  },
  "language_info": {
   "codemirror_mode": {
    "name": "ipython",
    "version": 3
   },
   "file_extension": ".py",
   "mimetype": "text/x-python",
   "name": "python",
   "nbconvert_exporter": "python",
   "pygments_lexer": "ipython3",
   "version": "3.9.12"
  }
 },
 "nbformat": 4,
 "nbformat_minor": 5
}
