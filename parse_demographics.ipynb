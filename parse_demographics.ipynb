{
 "cells": [
  {
   "cell_type": "code",
   "execution_count": 15,
   "metadata": {},
   "outputs": [],
   "source": [
    "import pandas as pd\n",
    "import matplotlib.pyplot as plt"
   ]
  },
  {
   "cell_type": "code",
   "execution_count": 5,
   "metadata": {},
   "outputs": [],
   "source": [
    "df = pd.read_excel('demographics.xlsx')"
   ]
  },
  {
   "cell_type": "code",
   "execution_count": 6,
   "metadata": {},
   "outputs": [
    {
     "data": {
      "text/html": [
       "<div>\n",
       "<style scoped>\n",
       "    .dataframe tbody tr th:only-of-type {\n",
       "        vertical-align: middle;\n",
       "    }\n",
       "\n",
       "    .dataframe tbody tr th {\n",
       "        vertical-align: top;\n",
       "    }\n",
       "\n",
       "    .dataframe thead th {\n",
       "        text-align: right;\n",
       "    }\n",
       "</style>\n",
       "<table border=\"1\" class=\"dataframe\">\n",
       "  <thead>\n",
       "    <tr style=\"text-align: right;\">\n",
       "      <th></th>\n",
       "      <th>Unique Client ID*</th>\n",
       "      <th>Age at Time of Intake</th>\n",
       "      <th>Gender*</th>\n",
       "      <th>Race/Ethnicity*</th>\n",
       "      <th>Residential Zip Code</th>\n",
       "      <th>County of Dispute</th>\n",
       "      <th>Immigrant (yes/no)</th>\n",
       "      <th>Household Size: Enter # of people 18 and Over</th>\n",
       "      <th>Household Size: Enter # of people Under 18</th>\n",
       "    </tr>\n",
       "  </thead>\n",
       "  <tbody>\n",
       "    <tr>\n",
       "      <th>0</th>\n",
       "      <td>138906308</td>\n",
       "      <td>46</td>\n",
       "      <td>Female</td>\n",
       "      <td>White / Caucasian</td>\n",
       "      <td>60613</td>\n",
       "      <td>NaN</td>\n",
       "      <td>NaN</td>\n",
       "      <td>1</td>\n",
       "      <td>0</td>\n",
       "    </tr>\n",
       "    <tr>\n",
       "      <th>1</th>\n",
       "      <td>143894043</td>\n",
       "      <td>30</td>\n",
       "      <td>Male</td>\n",
       "      <td>White / Caucasian</td>\n",
       "      <td>60626</td>\n",
       "      <td>NaN</td>\n",
       "      <td>NaN</td>\n",
       "      <td>2</td>\n",
       "      <td>0</td>\n",
       "    </tr>\n",
       "    <tr>\n",
       "      <th>2</th>\n",
       "      <td>147356246</td>\n",
       "      <td>23</td>\n",
       "      <td>Female</td>\n",
       "      <td>White / Caucasian</td>\n",
       "      <td>60637</td>\n",
       "      <td>NaN</td>\n",
       "      <td>NaN</td>\n",
       "      <td>2</td>\n",
       "      <td>0</td>\n",
       "    </tr>\n",
       "    <tr>\n",
       "      <th>3</th>\n",
       "      <td>150921861</td>\n",
       "      <td>47</td>\n",
       "      <td>Female</td>\n",
       "      <td>White / Caucasian</td>\n",
       "      <td>60610</td>\n",
       "      <td>NaN</td>\n",
       "      <td>NaN</td>\n",
       "      <td>1</td>\n",
       "      <td>0</td>\n",
       "    </tr>\n",
       "    <tr>\n",
       "      <th>4</th>\n",
       "      <td>151072929</td>\n",
       "      <td>39</td>\n",
       "      <td>Female</td>\n",
       "      <td>White / Caucasian</td>\n",
       "      <td>60610</td>\n",
       "      <td>NaN</td>\n",
       "      <td>NaN</td>\n",
       "      <td>1</td>\n",
       "      <td>0</td>\n",
       "    </tr>\n",
       "    <tr>\n",
       "      <th>...</th>\n",
       "      <td>...</td>\n",
       "      <td>...</td>\n",
       "      <td>...</td>\n",
       "      <td>...</td>\n",
       "      <td>...</td>\n",
       "      <td>...</td>\n",
       "      <td>...</td>\n",
       "      <td>...</td>\n",
       "      <td>...</td>\n",
       "    </tr>\n",
       "    <tr>\n",
       "      <th>855</th>\n",
       "      <td>6415-Smith</td>\n",
       "      <td>38</td>\n",
       "      <td>Female</td>\n",
       "      <td>Black / African American</td>\n",
       "      <td>60411</td>\n",
       "      <td>NaN</td>\n",
       "      <td>NaN</td>\n",
       "      <td>2</td>\n",
       "      <td>3</td>\n",
       "    </tr>\n",
       "    <tr>\n",
       "      <th>856</th>\n",
       "      <td>6483-Turner</td>\n",
       "      <td>24</td>\n",
       "      <td>Female</td>\n",
       "      <td>Black / African American</td>\n",
       "      <td>62864</td>\n",
       "      <td>NaN</td>\n",
       "      <td>NaN</td>\n",
       "      <td>1</td>\n",
       "      <td>1</td>\n",
       "    </tr>\n",
       "    <tr>\n",
       "      <th>857</th>\n",
       "      <td>6484-Mcneal</td>\n",
       "      <td>29</td>\n",
       "      <td>Female</td>\n",
       "      <td>Black / African American</td>\n",
       "      <td>60155</td>\n",
       "      <td>NaN</td>\n",
       "      <td>NaN</td>\n",
       "      <td>1</td>\n",
       "      <td>4</td>\n",
       "    </tr>\n",
       "    <tr>\n",
       "      <th>858</th>\n",
       "      <td>6486-Jarrett</td>\n",
       "      <td>37</td>\n",
       "      <td>Female</td>\n",
       "      <td>Black / African American</td>\n",
       "      <td>60615</td>\n",
       "      <td>NaN</td>\n",
       "      <td>NaN</td>\n",
       "      <td>2</td>\n",
       "      <td>4</td>\n",
       "    </tr>\n",
       "    <tr>\n",
       "      <th>859</th>\n",
       "      <td>6488-Fobes</td>\n",
       "      <td>66</td>\n",
       "      <td>Female</td>\n",
       "      <td>Black / African American</td>\n",
       "      <td>60626</td>\n",
       "      <td>NaN</td>\n",
       "      <td>NaN</td>\n",
       "      <td>3</td>\n",
       "      <td>3</td>\n",
       "    </tr>\n",
       "  </tbody>\n",
       "</table>\n",
       "<p>860 rows × 9 columns</p>\n",
       "</div>"
      ],
      "text/plain": [
       "    Unique Client ID*  Age at Time of Intake Gender*  \\\n",
       "0           138906308                     46  Female   \n",
       "1           143894043                     30    Male   \n",
       "2           147356246                     23  Female   \n",
       "3           150921861                     47  Female   \n",
       "4           151072929                     39  Female   \n",
       "..                ...                    ...     ...   \n",
       "855        6415-Smith                     38  Female   \n",
       "856       6483-Turner                     24  Female   \n",
       "857       6484-Mcneal                     29  Female   \n",
       "858      6486-Jarrett                     37  Female   \n",
       "859        6488-Fobes                     66  Female   \n",
       "\n",
       "              Race/Ethnicity*  Residential Zip Code  County of Dispute  \\\n",
       "0           White / Caucasian                 60613                NaN   \n",
       "1           White / Caucasian                 60626                NaN   \n",
       "2           White / Caucasian                 60637                NaN   \n",
       "3           White / Caucasian                 60610                NaN   \n",
       "4           White / Caucasian                 60610                NaN   \n",
       "..                        ...                   ...                ...   \n",
       "855  Black / African American                 60411                NaN   \n",
       "856  Black / African American                 62864                NaN   \n",
       "857  Black / African American                 60155                NaN   \n",
       "858  Black / African American                 60615                NaN   \n",
       "859  Black / African American                 60626                NaN   \n",
       "\n",
       "     Immigrant (yes/no)  Household Size: Enter # of people 18 and Over  \\\n",
       "0                   NaN                                              1   \n",
       "1                   NaN                                              2   \n",
       "2                   NaN                                              2   \n",
       "3                   NaN                                              1   \n",
       "4                   NaN                                              1   \n",
       "..                  ...                                            ...   \n",
       "855                 NaN                                              2   \n",
       "856                 NaN                                              1   \n",
       "857                 NaN                                              1   \n",
       "858                 NaN                                              2   \n",
       "859                 NaN                                              3   \n",
       "\n",
       "     Household Size: Enter # of people Under 18  \n",
       "0                                             0  \n",
       "1                                             0  \n",
       "2                                             0  \n",
       "3                                             0  \n",
       "4                                             0  \n",
       "..                                          ...  \n",
       "855                                           3  \n",
       "856                                           1  \n",
       "857                                           4  \n",
       "858                                           4  \n",
       "859                                           3  \n",
       "\n",
       "[860 rows x 9 columns]"
      ]
     },
     "execution_count": 6,
     "metadata": {},
     "output_type": "execute_result"
    }
   ],
   "source": [
    "df"
   ]
  },
  {
   "attachments": {},
   "cell_type": "markdown",
   "metadata": {},
   "source": [
    "# Find Age Stats"
   ]
  },
  {
   "cell_type": "code",
   "execution_count": 24,
   "metadata": {},
   "outputs": [
    {
     "name": "stdout",
     "output_type": "stream",
     "text": [
      "the most common age is 29\n"
     ]
    }
   ],
   "source": [
    "dic = {}\n",
    "\n",
    "for i in df['Age at Time of Intake']:\n",
    "    if i in dic.keys():\n",
    "        dic[i] += 1\n",
    "    else:\n",
    "        dic[i] = 1\n",
    "\n",
    "mostcount = 0\n",
    "mostkey = 0\n",
    "freqcounts = []\n",
    "ages = sorted(dic)\n",
    "ages.remove(6)\n",
    "\n",
    "for key in ages:\n",
    "    # print(\"AGE:\", key, \"COUNT:\", dic.get(key))\n",
    "    freqcounts.append(dic.get(key))\n",
    "    if dic.get(key) > mostcount:\n",
    "        mostcount = dic.get(key)\n",
    "        mostkey = key\n",
    "\n",
    "print(\"the most common age is\", mostkey)"
   ]
  },
  {
   "cell_type": "code",
   "execution_count": 25,
   "metadata": {},
   "outputs": [
    {
     "data": {
      "image/png": "[encoded data removed]",
      "text/plain": [
       "<Figure size 720x360 with 1 Axes>"
      ]
     },
     "metadata": {
      "needs_background": "light"
     },
     "output_type": "display_data"
    }
   ],
   "source": [
    "fig = plt.figure(figsize = (10, 5))\n",
    "\n",
    "plt.bar(ages, freqcounts, color ='maroon',\n",
    "        width = 0.4)\n",
    " \n",
    "plt.xlabel(\"Age At Time of Intake\")\n",
    "plt.ylabel(\"Number of People\")\n",
    "plt.title(\"Age Distribution\")\n",
    "plt.show()"
   ]
  },
  {
   "attachments": {},
   "cell_type": "markdown",
   "metadata": {},
   "source": [
    "# Gender Distribution"
   ]
  },
  {
   "cell_type": "code",
   "execution_count": 29,
   "metadata": {},
   "outputs": [
    {
     "name": "stdout",
     "output_type": "stream",
     "text": [
      "Female : 684\n",
      " Male : 160\n",
      "Non-Binary : 12\n",
      "Other / Prefer Not to Answer : 4\n"
     ]
    }
   ],
   "source": [
    "gender = ['Female', ' Male', 'Non-Binary', 'Other / Prefer Not to Answer']\n",
    "gendercount = [0,0,0,0]\n",
    "for i in df['Gender*']:\n",
    "    if i == 'Female':\n",
    "        gendercount[0] += 1\n",
    "    elif i == 'Male':\n",
    "        gendercount[1] += 1\n",
    "    elif i == 'Non-Binary':\n",
    "        gendercount[2] += 1\n",
    "    else:\n",
    "        gendercount[3] += 1\n",
    "    \n",
    "for j,value in enumerate(gender):\n",
    "    print(value, \":\", gendercount[j])"
   ]
  },
  {
   "cell_type": "code",
   "execution_count": 34,
   "metadata": {},
   "outputs": [
    {
     "data": {
      "image/png": "[encoded data removed]",
      "text/plain": [
       "<Figure size 576x360 with 1 Axes>"
      ]
     },
     "metadata": {
      "needs_background": "light"
     },
     "output_type": "display_data"
    }
   ],
   "source": [
    "fig = plt.figure(figsize = (8, 5))\n",
    "\n",
    "plt.bar(gender, gendercount,\n",
    "        width = 0.4)\n",
    " \n",
    "plt.xlabel(\"Gender\")\n",
    "plt.ylabel(\"Number of People\")\n",
    "plt.title(\"Gender Distribution\")\n",
    "plt.show()"
   ]
  },
  {
   "attachments": {},
   "cell_type": "markdown",
   "metadata": {},
   "source": [
    "# Race & Ethnicity Distributions"
   ]
  },
  {
   "cell_type": "code",
   "execution_count": 48,
   "metadata": {},
   "outputs": [],
   "source": [
    "racedic = {}\n",
    "for i in df['Race/Ethnicity*']:\n",
    "    if i in racedic.keys():\n",
    "        racedic[i] += 1\n",
    "    else:\n",
    "        racedic[i] = 1\n",
    "\n",
    "races = []\n",
    "racecount = []\n",
    "\n",
    "for i in racedic:\n",
    "    races.append(i)\n",
    "    racecount.append(racedic[i])\n"
   ]
  },
  {
   "cell_type": "code",
   "execution_count": 54,
   "metadata": {},
   "outputs": [
    {
     "data": {
      "image/png": "[encoded data removed]",
      "text/plain": [
       "<Figure size 720x360 with 1 Axes>"
      ]
     },
     "metadata": {
      "needs_background": "light"
     },
     "output_type": "display_data"
    }
   ],
   "source": [
    "fig = plt.figure(figsize = (10, 5))\n",
    "\n",
    "plt.bar(races, racecount,\n",
    "        width = 0.4)\n",
    " \n",
    "plt.xlabel(\"Race/Ethnicity\")\n",
    "plt.xticks(rotation=90)\n",
    "plt.ylabel(\"Number of People\")\n",
    "plt.title(\"Race/Ethnicity Distribution\")\n",
    "plt.show()"
   ]
  },
  {
   "cell_type": "code",
   "execution_count": null,
   "metadata": {},
   "outputs": [],
   "source": []
  }
 ],
 "metadata": {
  "kernelspec": {
   "display_name": "Python 3",
   "language": "python",
   "name": "python3"
  },
  "language_info": {
   "codemirror_mode": {
    "name": "ipython",
    "version": 3
   },
   "file_extension": ".py",
   "mimetype": "text/x-python",
   "name": "python",
   "nbconvert_exporter": "python",
   "pygments_lexer": "ipython3",
   "version": "3.9.12"
  },
  "orig_nbformat": 4,
  "vscode": {
   "interpreter": {
    "hash": "aee8b7b246df8f9039afb4144a1f6fd8d2ca17a180786b69acc140d282b71a49"
   }
  }
 },
 "nbformat": 4,
 "nbformat_minor": 2
}
